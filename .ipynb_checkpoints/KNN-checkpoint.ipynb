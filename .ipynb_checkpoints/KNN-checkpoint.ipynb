{
 "cells": [
  {
   "cell_type": "code",
   "execution_count": 1,
   "metadata": {},
   "outputs": [
    {
     "name": "stderr",
     "output_type": "stream",
     "text": [
      "/home/ninjakx/anaconda3/envs/myenv/lib/python3.6/site-packages/sklearn/cross_validation.py:44: DeprecationWarning: This module was deprecated in version 0.18 in favor of the model_selection module into which all the refactored classes and functions are moved. Also note that the interface of the new CV iterators are different from that of this module. This module will be removed in 0.20.\n",
      "  \"This module will be removed in 0.20.\", DeprecationWarning)\n"
     ]
    },
    {
     "name": "stdout",
     "output_type": "stream",
     "text": [
      "training data points: 19950\n",
      "validation data points: 1050\n",
      "testing data points: 750\n"
     ]
    }
   ],
   "source": [
    "# import the necessary packages\n",
    "from __future__ import print_function\n",
    "from sklearn.datasets import fetch_mldata\n",
    "from sklearn.cross_validation import train_test_split\n",
    "from sklearn.neighbors import KNeighborsClassifier\n",
    "from sklearn.metrics import classification_report\n",
    "from sklearn import datasets\n",
    "from skimage import exposure\n",
    "import numpy as np\n",
    "import imutils\n",
    "import cv2\n",
    "import matplotlib.pyplot as plt\n",
    "\n",
    "# load the MNIST digits dataset\n",
    "\n",
    "#mnist = datasets.load_digits()\n",
    "\n",
    "mnist = fetch_mldata('MNIST original')\n",
    "\n",
    "# 30% data for training set and 70% for testing set\n",
    "# 30% for training set = 21000\n",
    "(trainData, testData, trainLabels, testLabels) = train_test_split(np.array(mnist.data),mnist.target, test_size=0.7, random_state=42)\n",
    " \n",
    "# 5% data of training set for validation\n",
    "(trainData, valData, trainLabels, valLabels) = train_test_split(trainData, trainLabels,test_size=0.05, random_state=84)\n",
    "\n",
    "# take only 750 data from testData for testing\n",
    "testData = testData[0:750]\n",
    "testLabels = testLabels[0:750]\n",
    "\n",
    "# show the sizes of each data split\n",
    "print(\"training data points: {}\".format(len(trainLabels)))\n",
    "print(\"validation data points: {}\".format(len(valLabels)))\n",
    "print(\"testing data points: {}\".format(len(testLabels)))\n"
   ]
  },
  {
   "cell_type": "code",
   "execution_count": 22,
   "metadata": {},
   "outputs": [
    {
     "data": {
      "image/png": "[encoded data removed]",
      "text/plain": [
       "<matplotlib.figure.Figure at 0x7f900c28e588>"
      ]
     },
     "metadata": {},
     "output_type": "display_data"
    },
    {
     "name": "stdout",
     "output_type": "stream",
     "text": [
      "k=3 achieved highest accuracy of 95.52% on validation data\n"
     ]
    }
   ],
   "source": [
    "from sklearn.neighbors import KNeighborsClassifier\n",
    "# initialize the values of k for our k-Nearest Neighbor classifier along with the\n",
    "# list of accuracies for each value of k\n",
    "kVals = list(range(1, 18, 2))\n",
    "accuracies = []\n",
    "# loop over various values of `k` for the k-Nearest Neighbor classifier\n",
    "for k in range(1, 18, 2):\n",
    "    # train the k-Nearest Neighbor classifier with the current value of `k`\n",
    "    \n",
    "    model = KNeighborsClassifier(n_neighbors=k)\n",
    "    model.fit(trainData, trainLabels)\n",
    " \n",
    "    # evaluate the model and update the accuracies list\n",
    "    score = model.score(valData, valLabels)\n",
    "    #print(\"k=%d, accuracy=%.2f%%\" % (k, score * 100))\n",
    "    accuracies.append(score*100)\n",
    " \n",
    "fig, ax = plt.subplots()\n",
    "\n",
    "y_pos = np.arange(len(kVals))\n",
    "plt.bar(y_pos, accuracies, align='center', alpha=1,width=0.9)\n",
    "fmt = plt.ScalarFormatter(useOffset=False)\n",
    "plt.gca().xaxis.set_major_formatter(fmt)\n",
    "plt.xticks(y_pos, kVals)\n",
    "plt.xlabel('K Values')\n",
    "plt.ylabel('accuracy in %')\n",
    "plt.title('Model accuracy')\n",
    "ax.margins( None,0.3 )\n",
    "rects = ax.patches\n",
    "\n",
    "# Now make some labels\n",
    "\n",
    "for rect, label in zip(rects, accuracies):\n",
    "    height = rect.get_height()\n",
    "    ax.text(rect.get_x() + rect.get_width()/2, height + 5, '%.2f' %label + '%', ha='center', va='bottom',color='green', fontsize=9)\n",
    "\n",
    "plt.show()\n",
    "\n",
    "# find the value of k that has the largest accuracy\n",
    "i = np.argmax(accuracies)\n",
    "print(\"k=%d achieved highest accuracy of %.2f%% on validation data\" % (kVals[i],accuracies[i]))\n",
    "\n"
   ]
  },
  {
   "cell_type": "code",
   "execution_count": 15,
   "metadata": {},
   "outputs": [
    {
     "name": "stdout",
     "output_type": "stream",
     "text": [
      "EVALUATION ON TESTING DATA\n",
      "             precision    recall  f1-score   support\n",
      "\n",
      "        0.0       0.95      0.98      0.97        59\n",
      "        1.0       0.93      0.99      0.96        81\n",
      "        2.0       0.99      0.96      0.97        75\n",
      "        3.0       0.94      0.92      0.93        74\n",
      "        4.0       1.00      0.97      0.98        65\n",
      "        5.0       0.91      0.94      0.92        83\n",
      "        6.0       0.94      0.99      0.96        82\n",
      "        7.0       0.95      0.97      0.96        87\n",
      "        8.0       0.96      0.86      0.91        84\n",
      "        9.0       0.92      0.92      0.92        60\n",
      "\n",
      "avg / total       0.95      0.95      0.95       750\n",
      "\n"
     ]
    }
   ],
   "source": [
    "# re-train our classifier using the best k value and predict the labels of the\n",
    "# test data\n",
    "model = KNeighborsClassifier(n_neighbors=kVals[i])\n",
    "model.fit(trainData, trainLabels)\n",
    "predictions = model.predict(testData)\n",
    " \n",
    "# show a final classification report demonstrating the accuracy of the classifier\n",
    "# for each of the digits\n",
    "print(\"EVALUATION ON TESTING DATA\")\n",
    "print(classification_report(testLabels, predictions))"
   ]
  },
  {
   "cell_type": "code",
   "execution_count": 16,
   "metadata": {},
   "outputs": [
    {
     "data": {
      "text/plain": [
       "0.98005012531328317"
      ]
     },
     "execution_count": 16,
     "metadata": {},
     "output_type": "execute_result"
    }
   ],
   "source": [
    "y_train_pred = model.predict(trainData)\n",
    "accuracy = \\\n",
    "  ((np.sum(trainLabels == y_train_pred, axis=0)).astype('float') / trainData.shape[0])\n",
    "accuracy"
   ]
  },
  {
   "cell_type": "code",
   "execution_count": 17,
   "metadata": {},
   "outputs": [
    {
     "data": {
      "text/plain": [
       "0.94799999999999995"
      ]
     },
     "execution_count": 17,
     "metadata": {},
     "output_type": "execute_result"
    }
   ],
   "source": [
    "y_test_pred = model.predict(testData)\n",
    "accuracy = \\\n",
    "  ((np.sum(testLabels == y_test_pred, axis=0)).astype('float') / testData.shape[0])\n",
    "accuracy"
   ]
  },
  {
   "cell_type": "code",
   "execution_count": 18,
   "metadata": {},
   "outputs": [
    {
     "data": {
      "image/png": "[encoded data removed]",
      "text/plain": [
       "<matplotlib.figure.Figure at 0x7f900b964588>"
      ]
     },
     "metadata": {},
     "output_type": "display_data"
    }
   ],
   "source": [
    "import matplotlib.pyplot as plt\n",
    "\n",
    "misclassified_img = testData[testLabels != y_test_pred][:30]\n",
    "correct_lab = testLabels[testLabels != y_test_pred][:30]\n",
    "misclassified_lab = y_test_pred[testLabels != y_test_pred][:30]\n",
    "\n",
    "fig, ax = plt.subplots(nrows=6, ncols=5, sharex=True, sharey=True,)\n",
    "ax = ax.flatten()\n",
    "for i in range(30):\n",
    "    img = misclassified_img[i].reshape(28, 28)\n",
    "    ax[i].imshow(img, cmap='Greys', interpolation='nearest')\n",
    "    ax[i].set_title('%d) t: %d p: %d' % (i+1, correct_lab[i], misclassified_lab[i]))\n",
    "\n",
    "ax[0].set_xticks([])\n",
    "ax[0].set_yticks([])\n",
    "plt.tight_layout()\n",
    "plt.show()"
   ]
  },
  {
   "cell_type": "code",
   "execution_count": 19,
   "metadata": {},
   "outputs": [
    {
     "name": "stderr",
     "output_type": "stream",
     "text": [
      "/home/ninjakx/anaconda3/envs/myenv/lib/python3.6/site-packages/sklearn/utils/validation.py:395: DeprecationWarning: Passing 1d arrays as data is deprecated in 0.17 and will raise ValueError in 0.19. Reshape your data either using X.reshape(-1, 1) if your data has a single feature or X.reshape(1, -1) if it contains a single sample.\n",
      "  DeprecationWarning)\n"
     ]
    },
    {
     "data": {
      "image/png": "[encoded data removed]",
      "text/plain": [
       "<matplotlib.figure.Figure at 0x7f900b91b438>"
      ]
     },
     "metadata": {},
     "output_type": "display_data"
    },
    {
     "name": "stdout",
     "output_type": "stream",
     "text": [
      "I think that digit is: [ 1.]\n"
     ]
    }
   ],
   "source": [
    "from scipy import ndimage\n",
    "import cv2\n",
    "import math\n",
    "import numpy as np\n",
    "from matplotlib import pyplot as plt\n",
    "\n",
    "def getBestShift(img):\n",
    "    cy,cx = ndimage.measurements.center_of_mass(img)\n",
    "\n",
    "    rows,cols = img.shape\n",
    "    shiftx = np.round(cols/2.0-cx).astype(int)\n",
    "    shifty = np.round(rows/2.0-cy).astype(int)\n",
    "\n",
    "    return shiftx,shifty\n",
    "\n",
    "def shift(img,sx,sy):\n",
    "    rows,cols = img.shape\n",
    "    M = np.float32([[1,0,sx],[0,1,sy]])\n",
    "    shifted = cv2.warpAffine(img,M,(cols,rows))\n",
    "    return shifted\n",
    "\n",
    "# read the image\n",
    "gray = cv2.imread(\"sample_dig.png\", 0)\n",
    "\n",
    "# rescale it\n",
    "gray = cv2.resize(255-gray, (28, 28))\n",
    "# better black and white version\n",
    "(thresh, gray) = cv2.threshold(gray, 128, 255, cv2.THRESH_BINARY | cv2.THRESH_OTSU)\n",
    "\n",
    "while np.sum(gray[0]) == 0:\n",
    "    gray = gray[1:]\n",
    "\n",
    "while np.sum(gray[:,0]) == 0:\n",
    "    gray = np.delete(gray,0,1)\n",
    "\n",
    "while np.sum(gray[-1]) == 0:\n",
    "    gray = gray[:-1]\n",
    "\n",
    "while np.sum(gray[:,-1]) == 0:\n",
    "    gray = np.delete(gray,-1,1)\n",
    "\n",
    "rows,cols = gray.shape\n",
    "\n",
    "if rows > cols:\n",
    "    factor = 20.0/rows\n",
    "    rows = 20\n",
    "    cols = int(round(cols*factor))\n",
    "    # first cols than rows\n",
    "    gray = cv2.resize(gray, (cols,rows))\n",
    "else:\n",
    "    factor = 20.0/cols\n",
    "    cols = 20\n",
    "    rows = int(round(rows*factor))\n",
    "    # first cols than rows\n",
    "    gray = cv2.resize(gray, (cols, rows))\n",
    "\n",
    "colsPadding = (int(math.ceil((28-cols)/2.0)),int(math.floor((28-cols)/2.0)))\n",
    "rowsPadding = (int(math.ceil((28-rows)/2.0)),int(math.floor((28-rows)/2.0)))\n",
    "gray = np.lib.pad(gray,(rowsPadding,colsPadding),'constant')\n",
    "\n",
    "shiftx,shifty = getBestShift(gray)\n",
    "shifted = shift(gray,shiftx,shifty)\n",
    "gray = shifted\n",
    "\n",
    "# save the processed images\n",
    "cv2.imwrite(\"newdig.png\", gray) \n",
    "    \n",
    "(thresh, gray) = cv2.threshold(gray, 128, 255, cv2.THRESH_BINARY | cv2.THRESH_OTSU)\n",
    "gray = cv2.resize(gray, (28, 28))\n",
    "img = gray.flatten()\n",
    "\n",
    "prediction = model.predict(img)\n",
    "\n",
    "image = img.reshape((28, 28)).astype(\"uint8\")\n",
    "image = exposure.rescale_intensity(image, out_range=(0, 255))\n",
    "image = imutils.resize(image, width=32, inter=cv2.INTER_CUBIC)\n",
    "\n",
    "#print(img.shape)\n",
    "\n",
    "plt.imshow(np.squeeze(image),cmap=plt.get_cmap('gray'))\n",
    "plt.show()\n",
    " \n",
    "# show the prediction\n",
    "print(\"I think that digit is: {}\".format(prediction))\n",
    "#cv2.imshow(\"Image\", image)\n",
    "#cv2.waitKey(0)"
   ]
  }
 ],
 "metadata": {
  "kernelspec": {
   "display_name": "Python 3",
   "language": "python",
   "name": "python3"
  },
  "language_info": {
   "codemirror_mode": {
    "name": "ipython",
    "version": 3
   },
   "file_extension": ".py",
   "mimetype": "text/x-python",
   "name": "python",
   "nbconvert_exporter": "python",
   "pygments_lexer": "ipython3",
   "version": "3.6.2"
  }
 },
 "nbformat": 4,
 "nbformat_minor": 2
}
