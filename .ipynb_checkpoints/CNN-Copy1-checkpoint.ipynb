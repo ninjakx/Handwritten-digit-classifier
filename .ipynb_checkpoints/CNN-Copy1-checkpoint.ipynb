{
 "cells": [
  {
   "cell_type": "code",
   "execution_count": 4,
   "metadata": {},
   "outputs": [
    {
     "name": "stdout",
     "output_type": "stream",
     "text": [
      "21000\n",
      "750\n"
     ]
    }
   ],
   "source": [
    "from sklearn.datasets import fetch_mldata\n",
    "from sklearn.cross_validation import train_test_split\n",
    "from sklearn import datasets\n",
    "from keras.optimizers import Adam\n",
    "from keras.utils import np_utils\n",
    "import numpy as np\n",
    "import argparse\n",
    "import cv2\n",
    " \n",
    "# load the MNIST digits dataset\n",
    "mnist = fetch_mldata('MNIST original')\n",
    "\n",
    "# reshape the MNIST dataset from 784-dim vectors to 28 x 28 pixel images \n",
    "data = mnist.data.reshape((mnist.data.shape[0], 28, 28))\n",
    "\n",
    "# construct the training and testing splits and scale the data to the range [0, 1.0]\n",
    "(trainData, testData, trainLabels, testLabels) = train_test_split(data / 255.0, mnist.target.astype(\"int\"), test_size=0.7)\n",
    "\n",
    "trainData = trainData.reshape(trainData.shape[0], 28, 28, 1)\n",
    "\n",
    "testData = testData.reshape(testData.shape[0], 28, 28, 1)\n",
    "testData = testData[:750]\n",
    "testLabels = testLabels[:750]\n",
    "\n",
    "trainLabels = np_utils.to_categorical(trainLabels, 10)\n",
    "testLabels = np_utils.to_categorical(testLabels, 10)\n",
    "\n"
   ]
  },
  {
   "cell_type": "code",
   "execution_count": 2,
   "metadata": {
    "collapsed": true
   },
   "outputs": [],
   "source": [
    "# import the necessary packages\n",
    "from keras.models import Sequential\n",
    "from keras.layers.convolutional import Convolution2D,MaxPooling2D\n",
    "from keras.layers.core import Activation,Dropout,Flatten,Dense\n",
    "     \n",
    "model = Sequential()\n",
    "# first set of CONV => RELU => POOL\n",
    "\n",
    "model.add(Convolution2D(32, (5, 5),input_shape=(28, 28, 1)))\n",
    "model.add(Activation(\"relu\"))\n",
    "model.add(MaxPooling2D(pool_size=(2, 2), strides=(2, 2)))\n",
    "# second set of CONV => RELU => POOL\n",
    "model.add(Convolution2D(50,(5, 5),input_shape=(28, 28, 1)))\n",
    "model.add(Activation(\"relu\"))\n",
    "model.add(MaxPooling2D(pool_size=(2, 2), strides=(2, 2)))\n",
    "              \n",
    "# set of FC => RELU layers\n",
    "model.add(Flatten())\n",
    "model.add(Dense(500))\n",
    "model.add(Activation(\"relu\"))\n",
    "model.add(Dropout(0.2))\n",
    "\n",
    "# softmax classifier\n",
    "model.add(Dense(10))\n",
    "model.add(Activation(\"softmax\"))\n",
    "        "
   ]
  },
  {
   "cell_type": "code",
   "execution_count": 3,
   "metadata": {
    "scrolled": true
   },
   "outputs": [
    {
     "name": "stdout",
     "output_type": "stream",
     "text": [
      "[INFO] compiling model...\n",
      "[INFO] training...\n",
      "(46900, 28, 28, 1)\n",
      "Train on 46900 samples, validate on 23100 samples\n",
      "Epoch 1/1\n",
      "46900/46900 [==============================] - 114s - loss: 0.1996 - acc: 0.9398 - val_loss: 0.0682 - val_acc: 0.9786\n",
      "23100\n"
     ]
    }
   ],
   "source": [
    "# initialize the optimizer and model\n",
    "print(\"Compiling model...\")\n",
    "\n",
    "model.compile(loss=\"categorical_crossentropy\", optimizer=Adam(),metrics=[\"accuracy\"])\n",
    "\n",
    "# only train and evaluate the model if we *are not* loading a\n",
    "# pre-existing model\n",
    "print(\"training...\")\n",
    "#print(trainData.shape)\n",
    "\n",
    "model.fit(trainData, trainLabels, batch_size=128, epochs=1, validation_data=(testData, testLabels))\n",
    "\n"
   ]
  },
  {
   "cell_type": "code",
   "execution_count": 4,
   "metadata": {},
   "outputs": [
    {
     "name": "stdout",
     "output_type": "stream",
     "text": [
      "23100\n",
      "[INFO] evaluating...\n",
      "23040/23100 [============================>.] - ETA: 0s[INFO] accuracy: 97.86%\n"
     ]
    }
   ],
   "source": [
    " # show the accuracy on the testing set\n",
    "print(\"evaluating...\")\n",
    "(loss, accuracy) = model.evaluate(testData, testLabels,batch_size=128, verbose=1)\n",
    "print(\"accuracy: {:.2f}%\".format(accuracy * 100))"
   ]
  },
  {
   "cell_type": "code",
   "execution_count": 5,
   "metadata": {},
   "outputs": [
    {
     "data": {
      "image/png": "[encoded data removed]",
      "text/plain": [
       "<matplotlib.figure.Figure at 0x7f6973a88be0>"
      ]
     },
     "metadata": {},
     "output_type": "display_data"
    },
    {
     "name": "stdout",
     "output_type": "stream",
     "text": [
      "[INFO] Predicted: 5, Actual: 5\n"
     ]
    },
    {
     "data": {
      "image/png": "[encoded data removed]",
      "text/plain": [
       "<matplotlib.figure.Figure at 0x7f693fe7ea20>"
      ]
     },
     "metadata": {},
     "output_type": "display_data"
    },
    {
     "name": "stdout",
     "output_type": "stream",
     "text": [
      "[INFO] Predicted: 7, Actual: 7\n"
     ]
    },
    {
     "data": {
      "image/png": "[encoded data removed]",
      "text/plain": [
       "<matplotlib.figure.Figure at 0x7f693c10f0f0>"
      ]
     },
     "metadata": {},
     "output_type": "display_data"
    },
    {
     "name": "stdout",
     "output_type": "stream",
     "text": [
      "[INFO] Predicted: 8, Actual: 8\n"
     ]
    },
    {
     "data": {
      "image/png": "[encoded data removed]",
      "text/plain": [
       "<matplotlib.figure.Figure at 0x7f693ff2b5c0>"
      ]
     },
     "metadata": {},
     "output_type": "display_data"
    },
    {
     "name": "stdout",
     "output_type": "stream",
     "text": [
      "[INFO] Predicted: 2, Actual: 2\n"
     ]
    },
    {
     "data": {
      "image/png": "[encoded data removed]",
      "text/plain": [
       "<matplotlib.figure.Figure at 0x7f693c0c39e8>"
      ]
     },
     "metadata": {},
     "output_type": "display_data"
    },
    {
     "name": "stdout",
     "output_type": "stream",
     "text": [
      "[INFO] Predicted: 2, Actual: 2\n"
     ]
    },
    {
     "data": {
      "image/png": "[encoded data removed]",
      "text/plain": [
       "<matplotlib.figure.Figure at 0x7f693c08f128>"
      ]
     },
     "metadata": {},
     "output_type": "display_data"
    },
    {
     "name": "stdout",
     "output_type": "stream",
     "text": [
      "[INFO] Predicted: 0, Actual: 0\n"
     ]
    },
    {
     "data": {
      "image/png": "[encoded data removed]",
      "text/plain": [
       "<matplotlib.figure.Figure at 0x7f693c120908>"
      ]
     },
     "metadata": {},
     "output_type": "display_data"
    },
    {
     "name": "stdout",
     "output_type": "stream",
     "text": [
      "[INFO] Predicted: 0, Actual: 0\n"
     ]
    },
    {
     "data": {
      "image/png": "[encoded data removed]",
      "text/plain": [
       "<matplotlib.figure.Figure at 0x7f693c0ba2e8>"
      ]
     },
     "metadata": {},
     "output_type": "display_data"
    },
    {
     "name": "stdout",
     "output_type": "stream",
     "text": [
      "[INFO] Predicted: 1, Actual: 1\n"
     ]
    },
    {
     "data": {
      "image/png": "[encoded data removed]",
      "text/plain": [
       "<matplotlib.figure.Figure at 0x7f693c0cb9b0>"
      ]
     },
     "metadata": {},
     "output_type": "display_data"
    },
    {
     "name": "stdout",
     "output_type": "stream",
     "text": [
      "[INFO] Predicted: 7, Actual: 7\n"
     ]
    },
    {
     "data": {
      "image/png": "[encoded data removed]",
      "text/plain": [
       "<matplotlib.figure.Figure at 0x7f691c585198>"
      ]
     },
     "metadata": {},
     "output_type": "display_data"
    },
    {
     "name": "stdout",
     "output_type": "stream",
     "text": [
      "[INFO] Predicted: 0, Actual: 0\n"
     ]
    }
   ],
   "source": [
    "from matplotlib import pyplot as plt\n",
    "import imutils\n",
    "# randomly select a few testing digits\n",
    "for i in np.random.choice(np.arange(0, len(testLabels)), size=(10,)):\n",
    "\t# classify the digit\n",
    "\n",
    "\tplt.imshow(np.squeeze(testData[i]),cmap=plt.get_cmap('gray'))\n",
    "\tplt.show()\n",
    "\n",
    "\tprobs = model.predict(testData[np.newaxis, i])\n",
    "\tprediction = probs.argmax(axis=1)\n",
    " \n",
    "\t# resize the image from a 28 x 28 image to a 96 x 96 image so we\n",
    "\t# can better see it\n",
    "#\timage = (testData[i][0] * 255).astype(\"uint8\")\n",
    "#\timage = cv2.merge([image] * 3)\n",
    "#\timage = cv2.resize(image, (28, 28), interpolation=cv2.INTER_LINEAR)\n",
    "\timage = np.squeeze(testData[i])\n",
    "\timage = imutils.resize(image, width=32, inter=cv2.INTER_CUBIC)\n",
    "\timage = cv2.resize(image, (96, 96), interpolation=cv2.INTER_LINEAR)\n",
    "\t#cv2.putText(image, str(prediction[0]), (5, 25),\n",
    "\t\t#cv2.FONT_HERSHEY_SIMPLEX, 0.75, (0, 255, 0), 2)\n",
    "\n",
    "\t#cv2.imshow(\"Digit\", image)\n",
    "\t#cv2.waitKey(0)\n",
    "\tcv2.putText(image,str(prediction[0]), (2,25), cv2.FONT_HERSHEY_SIMPLEX, 1,(255,255,255),2)\n",
    "\n",
    " \n",
    "\t# show the image and prediction\n",
    "\tprint(\"Predicted: {}, Actual: {}\".format(prediction[0],\n",
    "\t\tnp.argmax(testLabels[i])))\n",
    "\tprint()**2\n",
    "\tcv2.imshow(\"Digit\", image)\n",
    "\tcv2.waitKey(0)"
   ]
  },
  {
   "cell_type": "code",
   "execution_count": null,
   "metadata": {
    "collapsed": true
   },
   "outputs": [],
   "source": []
  }
 ],
 "metadata": {
  "kernelspec": {
   "display_name": "Python 3",
   "language": "python",
   "name": "python3"
  },
  "language_info": {
   "codemirror_mode": {
    "name": "ipython",
    "version": 3
   },
   "file_extension": ".py",
   "mimetype": "text/x-python",
   "name": "python",
   "nbconvert_exporter": "python",
   "pygments_lexer": "ipython3",
   "version": "3.6.2"
  }
 },
 "nbformat": 4,
 "nbformat_minor": 2
}
