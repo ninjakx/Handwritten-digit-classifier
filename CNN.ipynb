{
 "cells": [
  {
   "cell_type": "code",
   "execution_count": 46,
   "metadata": {},
   "outputs": [],
   "source": [
    "from sklearn.datasets import fetch_mldata\n",
    "from sklearn.cross_validation import train_test_split\n",
    "from sklearn import datasets\n",
    "from keras.optimizers import Adam\n",
    "from keras.utils import np_utils\n",
    "import numpy as np\n",
    "import argparse\n",
    "import cv2\n",
    " \n",
    "# load the MNIST digits dataset\n",
    "mnist = fetch_mldata('MNIST original')\n",
    "\n",
    "# reshape the MNIST dataset from 784-dim vectors to 28 x 28 pixel images \n",
    "data = mnist.data.reshape((mnist.data.shape[0], 28, 28))\n",
    "\n",
    "# construct the training and testing splits and scale the data to the range [0, 1.0]\n",
    "(trainData, testData, trainLabels, testLabels) = train_test_split(data / 255.0, mnist.target.astype(\"int\"), test_size=0.7)\n",
    "\n",
    "trainData = trainData.reshape(trainData.shape[0], 28, 28, 1)\n",
    "\n",
    "testD = testData[0:750]\n",
    "\n",
    "testData = testData.reshape(testData.shape[0], 28, 28, 1)\n",
    "testData = testData[:750]\n",
    "testLabels = testLabels[:750]\n",
    "\n",
    "trainL = trainLabels\n",
    "testL = testLabels\n",
    "\n",
    "trainLabels = np_utils.to_categorical(trainLabels, 10)\n",
    "testLabels = np_utils.to_categorical(testLabels, 10)"
   ]
  },
  {
   "cell_type": "code",
   "execution_count": 2,
   "metadata": {
    "collapsed": true
   },
   "outputs": [],
   "source": [
    "# import the necessary packages\n",
    "from keras.models import Sequential\n",
    "from keras.layers.convolutional import Convolution2D,MaxPooling2D\n",
    "from keras.layers.core import Activation,Dropout,Flatten,Dense\n",
    "     \n",
    "model = Sequential()\n",
    "# first set of CONV => RELU => POOL\n",
    "\n",
    "model.add(Convolution2D(32, (5, 5),input_shape=(28, 28, 1)))\n",
    "model.add(Activation(\"relu\"))\n",
    "model.add(MaxPooling2D(pool_size=(2, 2), strides=(2, 2)))\n",
    "# second set of CONV => RELU => POOL\n",
    "model.add(Convolution2D(50,(5, 5),input_shape=(28, 28, 1)))\n",
    "model.add(Activation(\"relu\"))\n",
    "model.add(MaxPooling2D(pool_size=(2, 2), strides=(2, 2)))\n",
    "              \n",
    "# set of FC => RELU layers\n",
    "model.add(Flatten())\n",
    "model.add(Dense(500))\n",
    "model.add(Activation(\"relu\"))\n",
    "model.add(Dropout(0.2))\n",
    "\n",
    "# softmax classifier\n",
    "model.add(Dense(10))\n",
    "model.add(Activation(\"softmax\"))\n",
    "        "
   ]
  },
  {
   "cell_type": "code",
   "execution_count": 3,
   "metadata": {
    "scrolled": true
   },
   "outputs": [
    {
     "name": "stdout",
     "output_type": "stream",
     "text": [
      "Compiling model...\n",
      "training...\n",
      "Train on 21000 samples, validate on 750 samples\n",
      "Epoch 1/10\n",
      "21000/21000 [==============================] - 34s - loss: 0.3508 - acc: 0.8943 - val_loss: 0.1047 - val_acc: 0.9693\n",
      "Epoch 2/10\n",
      "21000/21000 [==============================] - 33s - loss: 0.0896 - acc: 0.9732 - val_loss: 0.0660 - val_acc: 0.9800\n",
      "Epoch 3/10\n",
      "21000/21000 [==============================] - 36s - loss: 0.0536 - acc: 0.9833 - val_loss: 0.0591 - val_acc: 0.9840\n",
      "Epoch 4/10\n",
      "21000/21000 [==============================] - 38s - loss: 0.0429 - acc: 0.9868 - val_loss: 0.0641 - val_acc: 0.9800\n",
      "Epoch 5/10\n",
      "21000/21000 [==============================] - 36s - loss: 0.0349 - acc: 0.9889 - val_loss: 0.0429 - val_acc: 0.9867\n",
      "Epoch 6/10\n",
      "21000/21000 [==============================] - 36s - loss: 0.0242 - acc: 0.9921 - val_loss: 0.0444 - val_acc: 0.9853\n",
      "Epoch 7/10\n",
      "21000/21000 [==============================] - 35s - loss: 0.0186 - acc: 0.9944 - val_loss: 0.0463 - val_acc: 0.9853\n",
      "Epoch 8/10\n",
      "21000/21000 [==============================] - 35s - loss: 0.0154 - acc: 0.9957 - val_loss: 0.0534 - val_acc: 0.9827\n",
      "Epoch 9/10\n",
      "21000/21000 [==============================] - 36s - loss: 0.0125 - acc: 0.9959 - val_loss: 0.0431 - val_acc: 0.9867\n",
      "Epoch 10/10\n",
      "21000/21000 [==============================] - 38s - loss: 0.0108 - acc: 0.9969 - val_loss: 0.0634 - val_acc: 0.9853\n"
     ]
    },
    {
     "data": {
      "text/plain": [
       "<keras.callbacks.History at 0x7f22e69f0898>"
      ]
     },
     "execution_count": 3,
     "metadata": {},
     "output_type": "execute_result"
    }
   ],
   "source": [
    "# initialize the optimizer and model\n",
    "print(\"Compiling model...\")\n",
    "\n",
    "model.compile(loss=\"categorical_crossentropy\", optimizer=Adam(),metrics=[\"accuracy\"])\n",
    "\n",
    "# only train and evaluate the model if we *are not* loading a\n",
    "# pre-existing model\n",
    "print(\"training...\")\n",
    "#print(trainData.shape)\n",
    "\n",
    "model.fit(trainData, trainLabels, batch_size=128, epochs=10, validation_data=(testData, testLabels))"
   ]
  },
  {
   "cell_type": "code",
   "execution_count": 50,
   "metadata": {},
   "outputs": [
    {
     "name": "stdout",
     "output_type": "stream",
     "text": [
      "evaluating...\n",
      "750/750 [==============================] - 2s     \n",
      "accuracy: 99.33%\n"
     ]
    }
   ],
   "source": [
    " # show the accuracy on the testing set\n",
    "print(\"evaluating...\")\n",
    "(loss, accuracy) = model.evaluate(testData, testLabels,batch_size=128, verbose=1)\n",
    "print(\"accuracy: {:.2f}%\".format(accuracy * 100))"
   ]
  },
  {
   "cell_type": "code",
   "execution_count": 56,
   "metadata": {},
   "outputs": [
    {
     "data": {
      "text/plain": [
       "0.99119047619047618"
      ]
     },
     "execution_count": 56,
     "metadata": {},
     "output_type": "execute_result"
    }
   ],
   "source": [
    "y_train_pred = np.array([], dtype=np.float64)\n",
    "\n",
    "for i in range(0,len(trainL)):\n",
    "    probs = model.predict(trainData[np.newaxis, i])\n",
    "    prediction = probs.argmax(axis=1)\n",
    "    y_train_pred=np.append(y_train_pred,int(prediction))\n",
    "accuracy = \\\n",
    "  ((np.sum(trainL == y_train_pred, axis=0)).astype('float') / trainData.shape[0])\n",
    "    \n",
    "accuracy"
   ]
  },
  {
   "cell_type": "code",
   "execution_count": 57,
   "metadata": {},
   "outputs": [
    {
     "data": {
      "text/plain": [
       "0.99333333333333329"
      ]
     },
     "execution_count": 57,
     "metadata": {},
     "output_type": "execute_result"
    }
   ],
   "source": [
    "y_test_pred = np.array([], dtype=np.float64)\n",
    "\n",
    "for i in range(0,len(testL)):\n",
    "    probs = model.predict(testData[np.newaxis, i])\n",
    "    prediction = probs.argmax(axis=1)\n",
    "    y_test_pred=np.append(y_test_pred,int(prediction))\n",
    "accuracy = \\\n",
    "  ((np.sum(testL == y_test_pred, axis=0)).astype('float') / testData.shape[0])\n",
    "    \n",
    "accuracy"
   ]
  },
  {
   "cell_type": "code",
   "execution_count": 59,
   "metadata": {},
   "outputs": [
    {
     "data": {
      "image/png": "[encoded data removed]",
      "text/plain": [
       "<matplotlib.figure.Figure at 0x7f228f5f5d68>"
      ]
     },
     "metadata": {},
     "output_type": "display_data"
    }
   ],
   "source": [
    "import matplotlib.pyplot as plt\n",
    "\n",
    "misclassified_img = testD[testL != y_test_pred][:30]\n",
    "correct_lab = testL[testL != y_test_pred][:30]\n",
    "misclassified_lab = y_test_pred[testL != y_test_pred][:30]\n",
    "rows = len(misclassified_img)//5\n",
    "fig, ax = plt.subplots(nrows=rows, ncols=5, sharex=True, sharey=True,)\n",
    "ax = ax.flatten()\n",
    "for i in range(len(misclassified_img)):\n",
    "    img = misclassified_img[i].reshape(28, 28)\n",
    "    ax[i].imshow(img, cmap='Greys', interpolation='nearest')\n",
    "    ax[i].set_title('%d) t: %d p: %d' % (i+1, correct_lab[i], misclassified_lab[i]))\n",
    "\n",
    "ax[0].set_xticks([])\n",
    "ax[0].set_yticks([])\n",
    "plt.tight_layout()\n",
    "plt.show()"
   ]
  },
  {
   "cell_type": "code",
   "execution_count": null,
   "metadata": {},
   "outputs": [
    {
     "data": {
      "image/png": "[encoded data removed]",
      "text/plain": [
       "<matplotlib.figure.Figure at 0x7f22e8a5acf8>"
      ]
     },
     "metadata": {},
     "output_type": "display_data"
    },
    {
     "name": "stdout",
     "output_type": "stream",
     "text": [
      "Predicted: 6, Actual: 6\n",
      "\n"
     ]
    }
   ],
   "source": [
    "from matplotlib import pyplot as plt\n",
    "import imutils\n",
    "\n",
    "# randomly select a few testing digits\n",
    "for i in np.random.choice(np.arange(0, len(testLabels)), size=(10,)):\n",
    "\t# classify the digit\n",
    "\n",
    "\tplt.imshow(np.squeeze(testData[i]),cmap=plt.get_cmap('gray'))\n",
    "\tplt.show()\n",
    "\n",
    "\tprobs = model.predict(testData[np.newaxis, i])\n",
    "\tprediction = probs.argmax(axis=1)\n",
    " \n",
    "\timage = np.squeeze(testData[i])\n",
    "\timage = imutils.resize(image, width=32, inter=cv2.INTER_CUBIC)\n",
    "\timage = cv2.resize(image, (96, 96), interpolation=cv2.INTER_LINEAR)\n",
    "\n",
    "\tcv2.putText(image,str(prediction[0]), (2,25), cv2.FONT_HERSHEY_SIMPLEX, 1,(255,255,255),2)\n",
    " \n",
    "\t# show the image and prediction\n",
    "\tprint(\"Predicted: {}, Actual: {}\".format(prediction[0],\n",
    "\t\tnp.argmax(testLabels[i])))\n",
    "\tprint()\n",
    "\tcv2.imshow(\"Digit\", image)\n",
    "\tcv2.waitKey(0)"
   ]
  },
  {
   "cell_type": "code",
   "execution_count": null,
   "metadata": {
    "collapsed": true
   },
   "outputs": [],
   "source": [
    "from scipy import ndimage\n",
    "import cv2\n",
    "import math\n",
    "import numpy as np\n",
    "from matplotlib import pyplot as plt\n",
    "\n",
    "def getBestShift(img):\n",
    "    cy,cx = ndimage.measurements.center_of_mass(img)\n",
    "\n",
    "    rows,cols = img.shape\n",
    "    shiftx = np.round(cols/2.0-cx).astype(int)\n",
    "    shifty = np.round(rows/2.0-cy).astype(int)\n",
    "\n",
    "    return shiftx,shifty\n",
    "\n",
    "def shift(img,sx,sy):\n",
    "    rows,cols = img.shape\n",
    "    M = np.float32([[1,0,sx],[0,1,sy]])\n",
    "    shifted = cv2.warpAffine(img,M,(cols,rows))\n",
    "    return shifted\n",
    "\n",
    "# read the image\n",
    "gray = cv2.imread(\"sample_dig.png\", 0)\n",
    "\n",
    "# rescale it\n",
    "gray = cv2.resize(255-gray, (28, 28))\n",
    "# better black and white version\n",
    "(thresh, gray) = cv2.threshold(gray, 128, 255, cv2.THRESH_BINARY | cv2.THRESH_OTSU)\n",
    "\n",
    "while np.sum(gray[0]) == 0:\n",
    "    gray = gray[1:]\n",
    "\n",
    "while np.sum(gray[:,0]) == 0:\n",
    "    gray = np.delete(gray,0,1)\n",
    "\n",
    "while np.sum(gray[-1]) == 0:\n",
    "    gray = gray[:-1]\n",
    "\n",
    "while np.sum(gray[:,-1]) == 0:\n",
    "    gray = np.delete(gray,-1,1)\n",
    "\n",
    "rows,cols = gray.shape\n",
    "\n",
    "if rows > cols:\n",
    "    factor = 20.0/rows\n",
    "    rows = 20\n",
    "    cols = int(round(cols*factor))\n",
    "    # first cols than rows\n",
    "    gray = cv2.resize(gray, (cols,rows))\n",
    "else:\n",
    "    factor = 20.0/cols\n",
    "    cols = 20\n",
    "    rows = int(round(rows*factor))\n",
    "    # first cols than rows\n",
    "    gray = cv2.resize(gray, (cols, rows))\n",
    "\n",
    "colsPadding = (int(math.ceil((28-cols)/2.0)),int(math.floor((28-cols)/2.0)))\n",
    "rowsPadding = (int(math.ceil((28-rows)/2.0)),int(math.floor((28-rows)/2.0)))\n",
    "gray = np.lib.pad(gray,(rowsPadding,colsPadding),'constant')\n",
    "\n",
    "shiftx,shifty = getBestShift(gray)\n",
    "shifted = shift(gray,shiftx,shifty)\n",
    "gray = shifted\n",
    "\n",
    "# save the processed images\n",
    "cv2.imwrite(\"newdig.png\", gray) \n",
    "    \n",
    "(thresh, gray) = cv2.threshold(gray, 128, 255, cv2.THRESH_BINARY | cv2.THRESH_OTSU)\n",
    "gray = cv2.resize(gray, (28, 28))\n",
    "img = gray.flatten()\n",
    "\n",
    "prediction = model.predict(img)\n",
    "\n",
    "image = img.reshape((28, 28)).astype(\"uint8\")\n",
    "image = exposure.rescale_intensity(image, out_range=(0, 255))\n",
    "image = imutils.resize(image, width=32, inter=cv2.INTER_CUBIC)\n",
    "\n",
    "#print(img.shape)\n",
    "\n",
    "plt.imshow(np.squeeze(image),cmap=plt.get_cmap('gray'))\n",
    "plt.show()\n",
    " \n",
    "# show the prediction\n",
    "print(\"I think that digit is: {}\".format(prediction))\n",
    "#cv2.imshow(\"Image\", image)\n",
    "#cv2.waitKey(0)"
   ]
  }
 ],
 "metadata": {
  "kernelspec": {
   "display_name": "Python 3",
   "language": "python",
   "name": "python3"
  },
  "language_info": {
   "codemirror_mode": {
    "name": "ipython",
    "version": 3
   },
   "file_extension": ".py",
   "mimetype": "text/x-python",
   "name": "python",
   "nbconvert_exporter": "python",
   "pygments_lexer": "ipython3",
   "version": "3.6.2"
  }
 },
 "nbformat": 4,
 "nbformat_minor": 2
}
